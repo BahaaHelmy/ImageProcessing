{
 "cells": [
  {
   "cell_type": "markdown",
   "id": "3fdaa65e",
   "metadata": {},
   "source": [
    "## Image Processing Section Dr/ Bahaa Helmy"
   ]
  },
  {
   "cell_type": "markdown",
   "id": "7437ff30",
   "metadata": {},
   "source": [
    "### Import libraries"
   ]
  },
  {
   "cell_type": "code",
   "execution_count": 1,
   "id": "025e3a50",
   "metadata": {},
   "outputs": [],
   "source": [
    "import cv2 as ocv\n",
    "import numpy as np"
   ]
  },
  {
   "cell_type": "markdown",
   "id": "ea091a38",
   "metadata": {},
   "source": [
    "### Read and Show Image"
   ]
  },
  {
   "cell_type": "code",
   "execution_count": 2,
   "id": "43c5856d",
   "metadata": {},
   "outputs": [],
   "source": [
    "img=ocv.imread(\"Y16.jpg\",0)"
   ]
  },
  {
   "cell_type": "code",
   "execution_count": 4,
   "id": "669490ec",
   "metadata": {},
   "outputs": [
    {
     "data": {
      "text/plain": [
       "<function destroyAllWindows>"
      ]
     },
     "execution_count": 4,
     "metadata": {},
     "output_type": "execute_result"
    }
   ],
   "source": [
    "ocv.imshow(\"My image\",img)\n",
    "ocv.waitKey()\n",
    "ocv.destroyAllWindows()"
   ]
  },
  {
   "cell_type": "code",
   "execution_count": 6,
   "id": "35d060d8",
   "metadata": {},
   "outputs": [
    {
     "data": {
      "text/plain": [
       "array([[[30, 30, 30],\n",
       "        [30, 30, 30],\n",
       "        [30, 30, 30],\n",
       "        ...,\n",
       "        [31, 29, 29],\n",
       "        [31, 29, 29],\n",
       "        [31, 29, 29]],\n",
       "\n",
       "       [[28, 28, 28],\n",
       "        [28, 28, 28],\n",
       "        [28, 28, 28],\n",
       "        ...,\n",
       "        [28, 26, 26],\n",
       "        [28, 26, 26],\n",
       "        [28, 26, 26]],\n",
       "\n",
       "       [[21, 21, 21],\n",
       "        [21, 21, 21],\n",
       "        [21, 21, 21],\n",
       "        ...,\n",
       "        [20, 18, 18],\n",
       "        [20, 18, 18],\n",
       "        [20, 18, 18]],\n",
       "\n",
       "       ...,\n",
       "\n",
       "       [[26, 26, 26],\n",
       "        [25, 25, 25],\n",
       "        [25, 25, 25],\n",
       "        ...,\n",
       "        [20, 20, 20],\n",
       "        [20, 20, 20],\n",
       "        [20, 20, 20]],\n",
       "\n",
       "       [[27, 27, 27],\n",
       "        [27, 27, 27],\n",
       "        [26, 26, 26],\n",
       "        ...,\n",
       "        [21, 21, 21],\n",
       "        [21, 21, 21],\n",
       "        [20, 20, 20]],\n",
       "\n",
       "       [[29, 29, 29],\n",
       "        [29, 29, 29],\n",
       "        [29, 29, 29],\n",
       "        ...,\n",
       "        [24, 24, 24],\n",
       "        [24, 24, 24],\n",
       "        [22, 22, 22]]], dtype=uint8)"
      ]
     },
     "execution_count": 6,
     "metadata": {},
     "output_type": "execute_result"
    }
   ],
   "source": [
    "img"
   ]
  },
  {
   "cell_type": "markdown",
   "id": "615a5edc",
   "metadata": {},
   "source": [
    "### Read and Normalize Image"
   ]
  },
  {
   "cell_type": "code",
   "execution_count": 94,
   "id": "56c9313c",
   "metadata": {},
   "outputs": [],
   "source": [
    "img=ocv.imread(\"Y16.jpg\",0)\n",
    "height, width = np.shape(img)\n",
    "img= img/255\n",
    "ocv.imshow(\"Original\",img)\n",
    "ocv.waitKey()\n",
    "ocv.destroyAllWindows()"
   ]
  },
  {
   "cell_type": "markdown",
   "id": "0fdfbde3",
   "metadata": {},
   "source": [
    "### Processing the image"
   ]
  },
  {
   "cell_type": "code",
   "execution_count": 8,
   "id": "66b9dc0d",
   "metadata": {},
   "outputs": [],
   "source": [
    "for row in range(height):\n",
    "    for col in range(width):\n",
    "        if row == col:\n",
    "            img[row][col]=1"
   ]
  },
  {
   "cell_type": "code",
   "execution_count": 9,
   "id": "93c01c44",
   "metadata": {},
   "outputs": [
    {
     "data": {
      "text/plain": [
       "<function destroyAllWindows>"
      ]
     },
     "execution_count": 9,
     "metadata": {},
     "output_type": "execute_result"
    }
   ],
   "source": [
    "ocv.imshow(\"After\",img)\n",
    "ocv.waitKey()\n",
    "ocv.destroyAllWindows()"
   ]
  },
  {
   "cell_type": "code",
   "execution_count": 4,
   "id": "fb16954d",
   "metadata": {},
   "outputs": [],
   "source": [
    "for row in range(height):\n",
    "    for col in range(width):\n",
    "        img2[row][col]=255"
   ]
  },
  {
   "cell_type": "code",
   "execution_count": 5,
   "id": "d44f7dec",
   "metadata": {},
   "outputs": [
    {
     "data": {
      "text/plain": [
       "27"
      ]
     },
     "execution_count": 5,
     "metadata": {},
     "output_type": "execute_result"
    }
   ],
   "source": [
    "ocv.imshow(\"My image\",img2)\n",
    "ocv.waitKey()\n",
    "ocv.destroyAllWindows()"
   ]
  },
  {
   "cell_type": "code",
   "execution_count": 9,
   "id": "28dddaf8",
   "metadata": {},
   "outputs": [
    {
     "name": "stdout",
     "output_type": "stream",
     "text": [
      "Hello world!\n"
     ]
    }
   ],
   "source": [
    "print(\"Hello world!\")"
   ]
  },
  {
   "cell_type": "code",
   "execution_count": 10,
   "id": "20c03101",
   "metadata": {},
   "outputs": [
    {
     "data": {
      "text/plain": [
       "'HelloHello'"
      ]
     },
     "execution_count": 10,
     "metadata": {},
     "output_type": "execute_result"
    }
   ],
   "source": [
    "\"Hello\"*2"
   ]
  },
  {
   "cell_type": "code",
   "execution_count": 17,
   "id": "cb2d7a7f",
   "metadata": {},
   "outputs": [],
   "source": [
    "a = [1,2,3,4,\"Hello\"]"
   ]
  },
  {
   "cell_type": "code",
   "execution_count": 23,
   "id": "0c7c5339",
   "metadata": {},
   "outputs": [
    {
     "data": {
      "text/plain": [
       "'Hello'"
      ]
     },
     "execution_count": 23,
     "metadata": {},
     "output_type": "execute_result"
    }
   ],
   "source": [
    "a[-1]"
   ]
  },
  {
   "cell_type": "code",
   "execution_count": 24,
   "id": "f601ed7e",
   "metadata": {},
   "outputs": [],
   "source": [
    "a.append(6)"
   ]
  },
  {
   "cell_type": "code",
   "execution_count": 25,
   "id": "995e6249",
   "metadata": {},
   "outputs": [
    {
     "data": {
      "text/plain": [
       "[1, 2, 3, 4, 'Hello', 6]"
      ]
     },
     "execution_count": 25,
     "metadata": {},
     "output_type": "execute_result"
    }
   ],
   "source": [
    "a"
   ]
  },
  {
   "cell_type": "code",
   "execution_count": 28,
   "id": "910c7c94",
   "metadata": {},
   "outputs": [
    {
     "data": {
      "text/plain": [
       "1"
      ]
     },
     "execution_count": 28,
     "metadata": {},
     "output_type": "execute_result"
    }
   ],
   "source": [
    "a.pop(0)"
   ]
  },
  {
   "cell_type": "code",
   "execution_count": 29,
   "id": "a13b3dda",
   "metadata": {},
   "outputs": [
    {
     "data": {
      "text/plain": [
       "[2, 3, 4, 'Hello']"
      ]
     },
     "execution_count": 29,
     "metadata": {},
     "output_type": "execute_result"
    }
   ],
   "source": [
    "a"
   ]
  },
  {
   "cell_type": "code",
   "execution_count": 30,
   "id": "c6fb1ab3",
   "metadata": {},
   "outputs": [
    {
     "data": {
      "text/plain": [
       "True"
      ]
     },
     "execution_count": 30,
     "metadata": {},
     "output_type": "execute_result"
    }
   ],
   "source": [
    "2 in a"
   ]
  },
  {
   "cell_type": "markdown",
   "id": "65f60414",
   "metadata": {},
   "source": [
    "### Negative Image"
   ]
  },
  {
   "cell_type": "code",
   "execution_count": 95,
   "id": "17e61fda",
   "metadata": {},
   "outputs": [],
   "source": [
    "for row in range(height):\n",
    "    for col in range(width):\n",
    "        img[row][col]=1-img[row][col]\n",
    "ocv.imshow(\"My image\",img)\n",
    "ocv.waitKey()\n",
    "ocv.destroyAllWindows()"
   ]
  },
  {
   "cell_type": "markdown",
   "id": "c3492e5e",
   "metadata": {},
   "source": [
    "### Power Law Image"
   ]
  },
  {
   "cell_type": "code",
   "execution_count": 111,
   "id": "83fcbdea",
   "metadata": {},
   "outputs": [],
   "source": [
    "img = ocv.imread(\"Y16.jpg\",0)/255\n",
    "for row in range(height):\n",
    "    for col in range(width):\n",
    "        img[row][col]=(10*(img[row][col]))**2\n",
    "ocv.imshow(\"My image\",img/255)\n",
    "ocv.waitKey()\n",
    "ocv.destroyAllWindows()"
   ]
  },
  {
   "cell_type": "markdown",
   "id": "9d94c6fb",
   "metadata": {},
   "source": [
    "### Log Transformation Image"
   ]
  },
  {
   "cell_type": "code",
   "execution_count": 115,
   "id": "a840e22f",
   "metadata": {},
   "outputs": [],
   "source": [
    "img = ocv.imread(\"Y16.jpg\",0)\n",
    "for row in range(height):\n",
    "    for col in range(width):\n",
    "        img[row][col]=4*(np.log2(img[row][col]))\n",
    "ocv.imshow(\"My image\",img)\n",
    "ocv.waitKey()\n",
    "ocv.destroyAllWindows()"
   ]
  },
  {
   "cell_type": "markdown",
   "id": "e094f20f",
   "metadata": {},
   "source": [
    "### Average Filter"
   ]
  },
  {
   "cell_type": "code",
   "execution_count": 9,
   "id": "577858d5",
   "metadata": {},
   "outputs": [],
   "source": [
    "img = ocv.imread(\"Y16.jpg\",0)\n",
    "img2 = ocv.imread(\"Y16.jpg\",0)"
   ]
  },
  {
   "cell_type": "code",
   "execution_count": 88,
   "id": "3577d32d",
   "metadata": {},
   "outputs": [],
   "source": [
    "filter_val=[]"
   ]
  },
  {
   "cell_type": "code",
   "execution_count": 89,
   "id": "cbe84302",
   "metadata": {},
   "outputs": [],
   "source": [
    "filter_val = [[1/9, 1/9, 1/9], [1/9, 1/9, 1/9], [1/9, 1/9, 1/9]]"
   ]
  },
  {
   "cell_type": "code",
   "execution_count": 3,
   "id": "e671027e",
   "metadata": {},
   "outputs": [],
   "source": [
    "width, height = np.shape(img)\n",
    "img2 = np.zeros((width, height))"
   ]
  },
  {
   "cell_type": "code",
   "execution_count": 91,
   "id": "e1175f37",
   "metadata": {},
   "outputs": [],
   "source": [
    "for row in range(width-1):\n",
    "    for col in range(height-1):\n",
    "        val=(((filter_val[1][1])*img[row][col])+((filter_val[1][2])*img[row+1][col])+((filter_val[0][2])*img[row+1][col+1])+((filter_val[2][2])*img[row+1][col-1])+((filter_val[0][1])*img[row][col+1])+((filter_val[2][1])*img[row][col-1])+((filter_val[1][0])*img[row-1][col])+((filter_val[0][0])*img[row-1][col+1])+((filter_val[2][0])*img[row-1][col-1]))\n",
    "        img2[row][col]=val"
   ]
  },
  {
   "cell_type": "code",
   "execution_count": 92,
   "id": "ee2f3202",
   "metadata": {},
   "outputs": [],
   "source": [
    "ocv.imshow(\"After\",img2)\n",
    "ocv.imshow(\"Before\",img)\n",
    "ocv.waitKey()\n",
    "ocv.destroyAllWindows()"
   ]
  },
  {
   "cell_type": "code",
   "execution_count": null,
   "id": "28aae34c",
   "metadata": {},
   "outputs": [],
   "source": []
  },
  {
   "cell_type": "code",
   "execution_count": null,
   "id": "a807ec0b",
   "metadata": {},
   "outputs": [],
   "source": []
  },
  {
   "cell_type": "code",
   "execution_count": null,
   "id": "93365e6b",
   "metadata": {},
   "outputs": [],
   "source": []
  },
  {
   "cell_type": "code",
   "execution_count": null,
   "id": "e2e7ceb5",
   "metadata": {},
   "outputs": [],
   "source": []
  },
  {
   "cell_type": "markdown",
   "id": "aca2a647",
   "metadata": {},
   "source": [
    "### Thresholding and Multi-Thresholding (Segmentation)"
   ]
  },
  {
   "cell_type": "code",
   "execution_count": 124,
   "id": "eaf360dd",
   "metadata": {},
   "outputs": [],
   "source": [
    "img = ocv.imread(\"C:\\\\Users\\\\ELmoor\\\\Desktop\\\\DataSets\\\\Brain\\\\yes\\\\Y1.jpg\",0)/255\n",
    "img2 = ocv.imread(\"C:\\\\Users\\\\ELmoor\\\\Desktop\\\\DataSets\\\\Brain\\\\yes\\\\Y1.jpg\",0)/255\n",
    "width, height = np.shape(img)"
   ]
  },
  {
   "cell_type": "markdown",
   "id": "f9eb9803",
   "metadata": {},
   "source": [
    "### Single-Threshold"
   ]
  },
  {
   "cell_type": "code",
   "execution_count": 125,
   "id": "e255cf90",
   "metadata": {},
   "outputs": [],
   "source": [
    "for row in range(width-1):\n",
    "    for col in range(height-1):\n",
    "        if img[row][col]<.7:\n",
    "            img[row][col]=0\n",
    "        else:\n",
    "            img[row][col]=1"
   ]
  },
  {
   "cell_type": "code",
   "execution_count": 116,
   "id": "3bfc2202",
   "metadata": {},
   "outputs": [],
   "source": [
    "for row in range(width-1):\n",
    "    for col in range(height-1):\n",
    "        if img[row][col]<.11:\n",
    "            img[row][col]=0\n",
    "        elif img[row][col]>.11 and img[row][col]<.39:\n",
    "            img[row][col]=.11\n",
    "        elif img[row][col]>.39 and img[row][col]<.58:\n",
    "            img[row][col]=.39\n",
    "        else:\n",
    "            img[row][col]=1"
   ]
  },
  {
   "cell_type": "code",
   "execution_count": 126,
   "id": "936eca65",
   "metadata": {},
   "outputs": [],
   "source": [
    "ocv.imshow(\"After\",img)\n",
    "ocv.imshow(\"Before\",img2)\n",
    "ocv.waitKey()\n",
    "ocv.destroyAllWindows()"
   ]
  },
  {
   "cell_type": "markdown",
   "id": "0fea6457",
   "metadata": {},
   "source": [
    "### Contrast Stretching"
   ]
  },
  {
   "cell_type": "code",
   "execution_count": 85,
   "id": "6bdba331",
   "metadata": {},
   "outputs": [],
   "source": [
    "img = ocv.imread(\"Y16.jpg\",0)/255\n",
    "img2 = ocv.imread(\"Y16.jpg\",0)/255\n",
    "width, height = np.shape(img)"
   ]
  },
  {
   "cell_type": "code",
   "execution_count": 86,
   "id": "1c226711",
   "metadata": {},
   "outputs": [],
   "source": [
    "for row in range(width-1):\n",
    "    for col in range(height-1):\n",
    "        if (img[row][col]>.3) and (img[row][col]<.7):\n",
    "            img[row][col]=img[row][col]+.3\n",
    "        else:\n",
    "            img[row][col]=img[row][col]"
   ]
  },
  {
   "cell_type": "code",
   "execution_count": 87,
   "id": "135533cd",
   "metadata": {},
   "outputs": [],
   "source": [
    "ocv.imshow(\"After\",img)\n",
    "ocv.imshow(\"Before\",img2)\n",
    "ocv.waitKey()\n",
    "ocv.destroyAllWindows()"
   ]
  },
  {
   "cell_type": "code",
   "execution_count": null,
   "id": "5ad92c81",
   "metadata": {},
   "outputs": [],
   "source": []
  },
  {
   "cell_type": "code",
   "execution_count": null,
   "id": "2a9abfb1",
   "metadata": {},
   "outputs": [],
   "source": []
  },
  {
   "cell_type": "code",
   "execution_count": null,
   "id": "39826309",
   "metadata": {},
   "outputs": [],
   "source": []
  }
 ],
 "metadata": {
  "kernelspec": {
   "display_name": "Python 3",
   "language": "python",
   "name": "python3"
  },
  "language_info": {
   "codemirror_mode": {
    "name": "ipython",
    "version": 3
   },
   "file_extension": ".py",
   "mimetype": "text/x-python",
   "name": "python",
   "nbconvert_exporter": "python",
   "pygments_lexer": "ipython3",
   "version": "3.6.13"
  }
 },
 "nbformat": 4,
 "nbformat_minor": 5
}
